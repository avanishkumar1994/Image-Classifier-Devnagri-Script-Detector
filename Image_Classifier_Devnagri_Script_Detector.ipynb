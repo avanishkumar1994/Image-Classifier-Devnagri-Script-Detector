{
  "nbformat": 4,
  "nbformat_minor": 0,
  "metadata": {
    "kernelspec": {
      "display_name": "Python 3",
      "language": "python",
      "name": "python3"
    },
    "colab": {
      "name": "Image-Classifier-Devnagri-Script-Detector",
      "provenance": [],
      "collapsed_sections": [],
      "toc_visible": true,
      "include_colab_link": true
    },
    "accelerator": "GPU",
    "widgets": {
      "application/vnd.jupyter.widget-state+json": {
        "f6e8f6f5ecff4624b8a2122fe8749b29": {
          "model_module": "@jupyter-widgets/controls",
          "model_name": "HBoxModel",
          "state": {
            "_view_name": "HBoxView",
            "_dom_classes": [],
            "_model_name": "HBoxModel",
            "_view_module": "@jupyter-widgets/controls",
            "_model_module_version": "1.5.0",
            "_view_count": null,
            "_view_module_version": "1.5.0",
            "box_style": "",
            "layout": "IPY_MODEL_8647ae2d8d6043638b16fdb5cc874ed4",
            "_model_module": "@jupyter-widgets/controls",
            "children": [
              "IPY_MODEL_d37d2df9cdcd4feda82026d2ce14c0fc",
              "IPY_MODEL_614a06de84944142a093d81564333811"
            ]
          }
        },
        "8647ae2d8d6043638b16fdb5cc874ed4": {
          "model_module": "@jupyter-widgets/base",
          "model_name": "LayoutModel",
          "state": {
            "_view_name": "LayoutView",
            "grid_template_rows": null,
            "right": null,
            "justify_content": null,
            "_view_module": "@jupyter-widgets/base",
            "overflow": null,
            "_model_module_version": "1.2.0",
            "_view_count": null,
            "flex_flow": null,
            "width": null,
            "min_width": null,
            "border": null,
            "align_items": null,
            "bottom": null,
            "_model_module": "@jupyter-widgets/base",
            "top": null,
            "grid_column": null,
            "overflow_y": null,
            "overflow_x": null,
            "grid_auto_flow": null,
            "grid_area": null,
            "grid_template_columns": null,
            "flex": null,
            "_model_name": "LayoutModel",
            "justify_items": null,
            "grid_row": null,
            "max_height": null,
            "align_content": null,
            "visibility": null,
            "align_self": null,
            "height": null,
            "min_height": null,
            "padding": null,
            "grid_auto_rows": null,
            "grid_gap": null,
            "max_width": null,
            "order": null,
            "_view_module_version": "1.2.0",
            "grid_template_areas": null,
            "object_position": null,
            "object_fit": null,
            "grid_auto_columns": null,
            "margin": null,
            "display": null,
            "left": null
          }
        },
        "d37d2df9cdcd4feda82026d2ce14c0fc": {
          "model_module": "@jupyter-widgets/controls",
          "model_name": "FloatProgressModel",
          "state": {
            "_view_name": "ProgressView",
            "style": "IPY_MODEL_5148d6c5c31b4b409b60059a0ca0125b",
            "_dom_classes": [],
            "description": "100%",
            "_model_name": "FloatProgressModel",
            "bar_style": "success",
            "max": 87306240,
            "_view_module": "@jupyter-widgets/controls",
            "_model_module_version": "1.5.0",
            "value": 87306240,
            "_view_count": null,
            "_view_module_version": "1.5.0",
            "orientation": "horizontal",
            "min": 0,
            "description_tooltip": null,
            "_model_module": "@jupyter-widgets/controls",
            "layout": "IPY_MODEL_edcb887fb4484cc3b8b2f6b1c42d2f24"
          }
        },
        "614a06de84944142a093d81564333811": {
          "model_module": "@jupyter-widgets/controls",
          "model_name": "HTMLModel",
          "state": {
            "_view_name": "HTMLView",
            "style": "IPY_MODEL_ca1ac89af0d14c18be3836fa3e62d419",
            "_dom_classes": [],
            "description": "",
            "_model_name": "HTMLModel",
            "placeholder": "​",
            "_view_module": "@jupyter-widgets/controls",
            "_model_module_version": "1.5.0",
            "value": " 83.3M/83.3M [06:00&lt;00:00, 242kB/s]",
            "_view_count": null,
            "_view_module_version": "1.5.0",
            "description_tooltip": null,
            "_model_module": "@jupyter-widgets/controls",
            "layout": "IPY_MODEL_b234672808a64b38bd1be739bd83789a"
          }
        },
        "5148d6c5c31b4b409b60059a0ca0125b": {
          "model_module": "@jupyter-widgets/controls",
          "model_name": "ProgressStyleModel",
          "state": {
            "_view_name": "StyleView",
            "_model_name": "ProgressStyleModel",
            "description_width": "initial",
            "_view_module": "@jupyter-widgets/base",
            "_model_module_version": "1.5.0",
            "_view_count": null,
            "_view_module_version": "1.2.0",
            "bar_color": null,
            "_model_module": "@jupyter-widgets/controls"
          }
        },
        "edcb887fb4484cc3b8b2f6b1c42d2f24": {
          "model_module": "@jupyter-widgets/base",
          "model_name": "LayoutModel",
          "state": {
            "_view_name": "LayoutView",
            "grid_template_rows": null,
            "right": null,
            "justify_content": null,
            "_view_module": "@jupyter-widgets/base",
            "overflow": null,
            "_model_module_version": "1.2.0",
            "_view_count": null,
            "flex_flow": null,
            "width": null,
            "min_width": null,
            "border": null,
            "align_items": null,
            "bottom": null,
            "_model_module": "@jupyter-widgets/base",
            "top": null,
            "grid_column": null,
            "overflow_y": null,
            "overflow_x": null,
            "grid_auto_flow": null,
            "grid_area": null,
            "grid_template_columns": null,
            "flex": null,
            "_model_name": "LayoutModel",
            "justify_items": null,
            "grid_row": null,
            "max_height": null,
            "align_content": null,
            "visibility": null,
            "align_self": null,
            "height": null,
            "min_height": null,
            "padding": null,
            "grid_auto_rows": null,
            "grid_gap": null,
            "max_width": null,
            "order": null,
            "_view_module_version": "1.2.0",
            "grid_template_areas": null,
            "object_position": null,
            "object_fit": null,
            "grid_auto_columns": null,
            "margin": null,
            "display": null,
            "left": null
          }
        },
        "ca1ac89af0d14c18be3836fa3e62d419": {
          "model_module": "@jupyter-widgets/controls",
          "model_name": "DescriptionStyleModel",
          "state": {
            "_view_name": "StyleView",
            "_model_name": "DescriptionStyleModel",
            "description_width": "",
            "_view_module": "@jupyter-widgets/base",
            "_model_module_version": "1.5.0",
            "_view_count": null,
            "_view_module_version": "1.2.0",
            "_model_module": "@jupyter-widgets/controls"
          }
        },
        "b234672808a64b38bd1be739bd83789a": {
          "model_module": "@jupyter-widgets/base",
          "model_name": "LayoutModel",
          "state": {
            "_view_name": "LayoutView",
            "grid_template_rows": null,
            "right": null,
            "justify_content": null,
            "_view_module": "@jupyter-widgets/base",
            "overflow": null,
            "_model_module_version": "1.2.0",
            "_view_count": null,
            "flex_flow": null,
            "width": null,
            "min_width": null,
            "border": null,
            "align_items": null,
            "bottom": null,
            "_model_module": "@jupyter-widgets/base",
            "top": null,
            "grid_column": null,
            "overflow_y": null,
            "overflow_x": null,
            "grid_auto_flow": null,
            "grid_area": null,
            "grid_template_columns": null,
            "flex": null,
            "_model_name": "LayoutModel",
            "justify_items": null,
            "grid_row": null,
            "max_height": null,
            "align_content": null,
            "visibility": null,
            "align_self": null,
            "height": null,
            "min_height": null,
            "padding": null,
            "grid_auto_rows": null,
            "grid_gap": null,
            "max_width": null,
            "order": null,
            "_view_module_version": "1.2.0",
            "grid_template_areas": null,
            "object_position": null,
            "object_fit": null,
            "grid_auto_columns": null,
            "margin": null,
            "display": null,
            "left": null
          }
        }
      }
    }
  },
  "cells": [
    {
      "cell_type": "markdown",
      "metadata": {
        "id": "view-in-github",
        "colab_type": "text"
      },
      "source": [
        "<a href=\"https://colab.research.google.com/github/avanishkumar1994/Image-Classifier-Devnagri-Script-Detector/blob/master/Image_Classifier_Devnagri_Script_Detector.ipynb\" target=\"_parent\"><img src=\"https://colab.research.google.com/assets/colab-badge.svg\" alt=\"Open In Colab\"/></a>"
      ]
    },
    {
      "cell_type": "markdown",
      "metadata": {
        "id": "r4Ha2jldq3zj",
        "colab_type": "text"
      },
      "source": [
        "Welcome to lesson 1! For those of you who are using a Jupyter Notebook for the first time, you can learn about this useful tool in a tutorial we prepared specially for you; click `File`->`Open` now and click `00_notebook_tutorial.ipynb`. \n",
        "\n",
        "In this lesson we will build our first image classifier from scratch, and see if we can achieve world-class results. Let's dive in!\n",
        "\n",
        "Every notebook starts with the following three lines; they ensure that any edits to libraries you make are reloaded here automatically, and also that any charts or images displayed are shown in this notebook."
      ]
    },
    {
      "cell_type": "markdown",
      "metadata": {
        "id": "21egXL6NHMCS",
        "colab_type": "text"
      },
      "source": [
        "Below code is because of a bug. By default pytorch 1.5 is instaled which results in bug"
      ]
    },
    {
      "cell_type": "code",
      "metadata": {
        "id": "dRZMa3vCWRyv",
        "colab_type": "code",
        "outputId": "050bd572-3088-4cbb-ea79-30068d85fa1b",
        "colab": {
          "base_uri": "https://localhost:8080/",
          "height": 412
        }
      },
      "source": [
        "import torch as torch\n",
        "if str(torch.__version__)=='1.4.0' :\n",
        "  print(\"1.4.0\")\n",
        "else:\n",
        "  !pip install torch==1.4.0 torchvision==0.5.0"
      ],
      "execution_count": 0,
      "outputs": [
        {
          "output_type": "stream",
          "text": [
            "Collecting torch==1.4.0\n",
            "\u001b[?25l  Downloading https://files.pythonhosted.org/packages/24/19/4804aea17cd136f1705a5e98a00618cb8f6ccc375ad8bfa437408e09d058/torch-1.4.0-cp36-cp36m-manylinux1_x86_64.whl (753.4MB)\n",
            "\u001b[K     |████████████████████████████████| 753.4MB 22kB/s \n",
            "\u001b[?25hCollecting torchvision==0.5.0\n",
            "\u001b[?25l  Downloading https://files.pythonhosted.org/packages/7e/90/6141bf41f5655c78e24f40f710fdd4f8a8aff6c8b7c6f0328240f649bdbe/torchvision-0.5.0-cp36-cp36m-manylinux1_x86_64.whl (4.0MB)\n",
            "\u001b[K     |████████████████████████████████| 4.0MB 41.3MB/s \n",
            "\u001b[?25hRequirement already satisfied: numpy in /usr/local/lib/python3.6/dist-packages (from torchvision==0.5.0) (1.18.4)\n",
            "Requirement already satisfied: six in /usr/local/lib/python3.6/dist-packages (from torchvision==0.5.0) (1.12.0)\n",
            "Requirement already satisfied: pillow>=4.1.1 in /usr/local/lib/python3.6/dist-packages (from torchvision==0.5.0) (7.0.0)\n",
            "Installing collected packages: torch, torchvision\n",
            "  Found existing installation: torch 1.5.0+cu101\n",
            "    Uninstalling torch-1.5.0+cu101:\n",
            "      Successfully uninstalled torch-1.5.0+cu101\n",
            "  Found existing installation: torchvision 0.6.0+cu101\n",
            "    Uninstalling torchvision-0.6.0+cu101:\n",
            "      Successfully uninstalled torchvision-0.6.0+cu101\n",
            "Successfully installed torch-1.4.0 torchvision-0.5.0\n"
          ],
          "name": "stdout"
        },
        {
          "output_type": "display_data",
          "data": {
            "application/vnd.colab-display-data+json": {
              "pip_warning": {
                "packages": [
                  "torch"
                ]
              }
            }
          },
          "metadata": {
            "tags": []
          }
        }
      ]
    },
    {
      "cell_type": "code",
      "metadata": {
        "id": "LaGgQ2JFById",
        "colab_type": "code",
        "outputId": "f3b06ac4-34f6-4af0-af88-762cf70f9b56",
        "colab": {
          "base_uri": "https://localhost:8080/",
          "height": 102
        }
      },
      "source": [
        "!curl https://course.fast.ai/setup/colab | bash"
      ],
      "execution_count": 0,
      "outputs": [
        {
          "output_type": "stream",
          "text": [
            "  % Total    % Received % Xferd  Average Speed   Time    Time     Time  Current\n",
            "                                 Dload  Upload   Total   Spent    Left  Speed\n",
            "\r  0     0    0     0    0     0      0      0 --:--:-- --:--:-- --:--:--     0\r100   322  100   322    0     0   1150      0 --:--:-- --:--:-- --:--:--  1150\n",
            "Updating fastai...\n",
            "Done.\n"
          ],
          "name": "stdout"
        }
      ]
    },
    {
      "cell_type": "markdown",
      "metadata": {
        "id": "tLZ8c2zjW-ME",
        "colab_type": "text"
      },
      "source": [
        "*Avanish Comment: The Below lines are not python code. It's for jupyter  notebook. Called magics. Whenever the notebook initialises, the run*"
      ]
    },
    {
      "cell_type": "markdown",
      "metadata": {
        "id": "iaULu2vFq3zn",
        "colab_type": "text"
      },
      "source": [
        "We import all the necessary packages. We are going to work with the [fastai V1 library](http://www.fast.ai/2018/10/02/fastai-ai/) which sits on top of [Pytorch 1.0](https://hackernoon.com/pytorch-1-0-468332ba5163). The fastai library provides many useful functions that enable us to quickly and easily build neural networks and train our models."
      ]
    },
    {
      "cell_type": "code",
      "metadata": {
        "id": "y5uKspHSq3zo",
        "colab_type": "code",
        "colab": {}
      },
      "source": [
        "from fastai.vision import *\n",
        "from fastai.metrics import error_rate"
      ],
      "execution_count": 0,
      "outputs": []
    },
    {
      "cell_type": "markdown",
      "metadata": {
        "id": "cNMKUOdsq3zr",
        "colab_type": "text"
      },
      "source": [
        "If you're using a computer with an unusually small GPU, you may get an out of memory error when running this notebook. If this happens, click Kernel->Restart, uncomment the 2nd line below to use a smaller *batch size* (you'll learn all about what this means during the course), and try again."
      ]
    },
    {
      "cell_type": "code",
      "metadata": {
        "id": "hmtprDpfq3zs",
        "colab_type": "code",
        "colab": {}
      },
      "source": [
        "bs = 256\n",
        "# bs = 16   # uncomment this line if you run out of memory even after clicking Kernel->Restart"
      ],
      "execution_count": 0,
      "outputs": []
    },
    {
      "cell_type": "markdown",
      "metadata": {
        "id": "j9uv0RPWgTs2",
        "colab_type": "text"
      },
      "source": [
        "*Avanish Comment: Bascially, the above line will take 64 image at a time to process*"
      ]
    },
    {
      "cell_type": "code",
      "metadata": {
        "id": "WFSKmx5W35r0",
        "colab_type": "code",
        "outputId": "287fb9d6-1869-4cbb-da4a-96b230b5994d",
        "colab": {
          "base_uri": "https://localhost:8080/",
          "height": 1000
        }
      },
      "source": [
        "!pip list"
      ],
      "execution_count": 0,
      "outputs": [
        {
          "output_type": "stream",
          "text": [
            "Package                  Version        \n",
            "------------------------ ---------------\n",
            "absl-py                  0.9.0          \n",
            "alabaster                0.7.12         \n",
            "albumentations           0.1.12         \n",
            "altair                   4.1.0          \n",
            "asgiref                  3.2.7          \n",
            "astor                    0.8.1          \n",
            "astropy                  4.0.1.post1    \n",
            "astunparse               1.6.3          \n",
            "atari-py                 0.2.6          \n",
            "atomicwrites             1.4.0          \n",
            "attrs                    19.3.0         \n",
            "audioread                2.1.8          \n",
            "autograd                 1.3            \n",
            "Babel                    2.8.0          \n",
            "backcall                 0.1.0          \n",
            "beautifulsoup4           4.6.3          \n",
            "bleach                   3.1.5          \n",
            "blis                     0.4.1          \n",
            "bokeh                    1.4.0          \n",
            "boto                     2.49.0         \n",
            "boto3                    1.13.10        \n",
            "botocore                 1.16.10        \n",
            "Bottleneck               1.3.2          \n",
            "branca                   0.4.1          \n",
            "bs4                      0.0.1          \n",
            "CacheControl             0.12.6         \n",
            "cachetools               3.1.1          \n",
            "catalogue                1.0.0          \n",
            "certifi                  2020.4.5.1     \n",
            "cffi                     1.14.0         \n",
            "chainer                  6.5.0          \n",
            "chardet                  3.0.4          \n",
            "click                    7.1.2          \n",
            "cloudpickle              1.3.0          \n",
            "cmake                    3.12.0         \n",
            "cmdstanpy                0.4.0          \n",
            "colorlover               0.3.0          \n",
            "community                1.0.0b1        \n",
            "contextlib2              0.5.5          \n",
            "convertdate              2.2.1          \n",
            "coverage                 3.7.1          \n",
            "coveralls                0.5            \n",
            "crcmod                   1.7            \n",
            "cufflinks                0.17.3         \n",
            "cupy-cuda101             6.5.0          \n",
            "cvxopt                   1.2.5          \n",
            "cvxpy                    1.0.31         \n",
            "cycler                   0.10.0         \n",
            "cymem                    2.0.3          \n",
            "Cython                   0.29.17        \n",
            "daft                     0.0.4          \n",
            "dask                     2.12.0         \n",
            "dataclasses              0.7            \n",
            "datascience              0.10.6         \n",
            "decorator                4.4.2          \n",
            "defusedxml               0.6.0          \n",
            "descartes                1.1.0          \n",
            "dill                     0.3.1.1        \n",
            "distributed              1.25.3         \n",
            "Django                   3.0.6          \n",
            "dlib                     19.18.0        \n",
            "docopt                   0.6.2          \n",
            "docutils                 0.15.2         \n",
            "dopamine-rl              1.0.5          \n",
            "earthengine-api          0.1.221        \n",
            "easydict                 1.9            \n",
            "ecos                     2.0.7.post1    \n",
            "editdistance             0.5.3          \n",
            "en-core-web-sm           2.2.5          \n",
            "entrypoints              0.3            \n",
            "ephem                    3.7.7.1        \n",
            "et-xmlfile               1.0.1          \n",
            "fa2                      0.3.5          \n",
            "fancyimpute              0.4.3          \n",
            "fastai                   1.0.61         \n",
            "fastdtw                  0.3.4          \n",
            "fastprogress             0.2.3          \n",
            "fastrlock                0.4            \n",
            "fbprophet                0.6            \n",
            "feather-format           0.4.1          \n",
            "featuretools             0.4.1          \n",
            "filelock                 3.0.12         \n",
            "firebase-admin           4.1.0          \n",
            "fix-yahoo-finance        0.0.22         \n",
            "Flask                    1.1.2          \n",
            "folium                   0.8.3          \n",
            "fsspec                   0.7.3          \n",
            "future                   0.16.0         \n",
            "gast                     0.3.3          \n",
            "GDAL                     2.2.2          \n",
            "gdown                    3.6.4          \n",
            "gensim                   3.6.0          \n",
            "geographiclib            1.50           \n",
            "geopy                    1.17.0         \n",
            "gin-config               0.3.0          \n",
            "glob2                    0.7            \n",
            "google                   2.0.3          \n",
            "google-api-core          1.16.0         \n",
            "google-api-python-client 1.7.12         \n",
            "google-auth              1.7.2          \n",
            "google-auth-httplib2     0.0.3          \n",
            "google-auth-oauthlib     0.4.1          \n",
            "google-cloud-bigquery    1.21.0         \n",
            "google-cloud-core        1.0.3          \n",
            "google-cloud-datastore   1.8.0          \n",
            "google-cloud-firestore   1.6.2          \n",
            "google-cloud-language    1.2.0          \n",
            "google-cloud-storage     1.18.1         \n",
            "google-cloud-translate   1.5.0          \n",
            "google-colab             1.0.0          \n",
            "google-pasta             0.2.0          \n",
            "google-resumable-media   0.4.1          \n",
            "googleapis-common-protos 1.51.0         \n",
            "googledrivedownloader    0.4            \n",
            "graphviz                 0.10.1         \n",
            "grpcio                   1.29.0         \n",
            "gspread                  3.0.1          \n",
            "gspread-dataframe        3.0.6          \n",
            "gym                      0.17.2         \n",
            "h5py                     2.10.0         \n",
            "HeapDict                 1.0.1          \n",
            "holidays                 0.9.12         \n",
            "html5lib                 1.0.1          \n",
            "httpimport               0.5.18         \n",
            "httplib2                 0.17.3         \n",
            "httplib2shim             0.0.3          \n",
            "humanize                 0.5.1          \n",
            "hyperopt                 0.1.2          \n",
            "ideep4py                 2.0.0.post3    \n",
            "idna                     2.9            \n",
            "image                    1.5.31         \n",
            "imagecodecs              2020.2.18      \n",
            "imageio                  2.4.1          \n",
            "imagesize                1.2.0          \n",
            "imbalanced-learn         0.4.3          \n",
            "imblearn                 0.0            \n",
            "imgaug                   0.2.9          \n",
            "importlib-metadata       1.6.0          \n",
            "imutils                  0.5.3          \n",
            "inflect                  2.1.0          \n",
            "intel-openmp             2020.0.133     \n",
            "intervaltree             2.1.0          \n",
            "ipykernel                4.10.1         \n",
            "ipython                  5.5.0          \n",
            "ipython-genutils         0.2.0          \n",
            "ipython-sql              0.3.9          \n",
            "ipywidgets               7.5.1          \n",
            "itsdangerous             1.1.0          \n",
            "jax                      0.1.64         \n",
            "jaxlib                   0.1.45         \n",
            "jdcal                    1.4.1          \n",
            "jedi                     0.17.0         \n",
            "jieba                    0.42.1         \n",
            "Jinja2                   2.11.2         \n",
            "jmespath                 0.10.0         \n",
            "joblib                   0.15.0         \n",
            "jpeg4py                  0.1.4          \n",
            "jsonschema               2.6.0          \n",
            "jupyter                  1.0.0          \n",
            "jupyter-client           5.3.4          \n",
            "jupyter-console          5.2.0          \n",
            "jupyter-core             4.6.3          \n",
            "kaggle                   1.5.6          \n",
            "kapre                    0.1.3.1        \n",
            "Keras                    2.3.1          \n",
            "Keras-Applications       1.0.8          \n",
            "Keras-Preprocessing      1.1.2          \n",
            "keras-vis                0.4.1          \n",
            "kiwisolver               1.2.0          \n",
            "knnimpute                0.1.0          \n",
            "librosa                  0.6.3          \n",
            "lightgbm                 2.2.3          \n",
            "llvmlite                 0.31.0         \n",
            "lmdb                     0.98           \n",
            "lucid                    0.3.8          \n",
            "LunarCalendar            0.0.9          \n",
            "lxml                     4.2.6          \n",
            "Markdown                 3.2.2          \n",
            "MarkupSafe               1.1.1          \n",
            "matplotlib               3.2.1          \n",
            "matplotlib-venn          0.11.5         \n",
            "missingno                0.4.2          \n",
            "mistune                  0.8.4          \n",
            "mizani                   0.6.0          \n",
            "mkl                      2019.0         \n",
            "mlxtend                  0.14.0         \n",
            "more-itertools           8.2.0          \n",
            "moviepy                  0.2.3.5        \n",
            "mpmath                   1.1.0          \n",
            "msgpack                  1.0.0          \n",
            "multiprocess             0.70.9         \n",
            "multitasking             0.0.9          \n",
            "murmurhash               1.0.2          \n",
            "music21                  5.5.0          \n",
            "natsort                  5.5.0          \n",
            "nbconvert                5.6.1          \n",
            "nbformat                 5.0.6          \n",
            "networkx                 2.4            \n",
            "nibabel                  3.0.2          \n",
            "nltk                     3.2.5          \n",
            "notebook                 5.2.2          \n",
            "np-utils                 0.5.12.1       \n",
            "numba                    0.48.0         \n",
            "numexpr                  2.7.1          \n",
            "numpy                    1.18.4         \n",
            "nvidia-ml-py3            7.352.0        \n",
            "oauth2client             4.1.3          \n",
            "oauthlib                 3.1.0          \n",
            "okgrade                  0.4.3          \n",
            "opencv-contrib-python    4.1.2.30       \n",
            "opencv-python            4.1.2.30       \n",
            "openpyxl                 2.5.9          \n",
            "opt-einsum               3.2.1          \n",
            "osqp                     0.6.1          \n",
            "packaging                20.3           \n",
            "palettable               3.3.0          \n",
            "pandas                   1.0.3          \n",
            "pandas-datareader        0.8.1          \n",
            "pandas-gbq               0.11.0         \n",
            "pandas-profiling         1.4.1          \n",
            "pandocfilters            1.4.2          \n",
            "parso                    0.7.0          \n",
            "pathlib                  1.0.1          \n",
            "patsy                    0.5.1          \n",
            "pexpect                  4.8.0          \n",
            "pickleshare              0.7.5          \n",
            "Pillow                   7.0.0          \n",
            "pip                      19.3.1         \n",
            "pip-tools                4.5.1          \n",
            "plac                     1.1.3          \n",
            "plotly                   4.4.1          \n",
            "plotnine                 0.6.0          \n",
            "pluggy                   0.7.1          \n",
            "portpicker               1.3.1          \n",
            "prefetch-generator       1.0.1          \n",
            "preshed                  3.0.2          \n",
            "prettytable              0.7.2          \n",
            "progressbar2             3.38.0         \n",
            "prometheus-client        0.7.1          \n",
            "promise                  2.3            \n",
            "prompt-toolkit           1.0.18         \n",
            "protobuf                 3.10.0         \n",
            "psutil                   5.4.8          \n",
            "psycopg2                 2.7.6.1        \n",
            "ptvsd                    5.0.0a12       \n",
            "ptyprocess               0.6.0          \n",
            "py                       1.8.1          \n",
            "pyarrow                  0.14.1         \n",
            "pyasn1                   0.4.8          \n",
            "pyasn1-modules           0.2.8          \n",
            "pycocotools              2.0.0          \n",
            "pycparser                2.20           \n",
            "pydata-google-auth       1.1.0          \n",
            "pydot                    1.3.0          \n",
            "pydot-ng                 2.0.0          \n",
            "pydotplus                2.0.2          \n",
            "PyDrive                  1.3.1          \n",
            "pyemd                    0.5.1          \n",
            "pyglet                   1.5.0          \n",
            "Pygments                 2.1.3          \n",
            "pygobject                3.26.1         \n",
            "pymc3                    3.7            \n",
            "PyMeeus                  0.3.7          \n",
            "pymongo                  3.10.1         \n",
            "pymystem3                0.2.0          \n",
            "PyOpenGL                 3.1.5          \n",
            "pyparsing                2.4.7          \n",
            "pyrsistent               0.16.0         \n",
            "pysndfile                1.3.8          \n",
            "PySocks                  1.7.1          \n",
            "pystan                   2.19.1.1       \n",
            "pytest                   3.6.4          \n",
            "python-apt               1.6.5+ubuntu0.2\n",
            "python-chess             0.23.11        \n",
            "python-dateutil          2.8.1          \n",
            "python-louvain           0.14           \n",
            "python-slugify           4.0.0          \n",
            "python-utils             2.4.0          \n",
            "pytz                     2018.9         \n",
            "PyWavelets               1.1.1          \n",
            "PyYAML                   3.13           \n",
            "pyzmq                    19.0.1         \n",
            "qtconsole                4.7.4          \n",
            "QtPy                     1.9.0          \n",
            "regex                    2019.12.20     \n",
            "requests                 2.23.0         \n",
            "requests-oauthlib        1.3.0          \n",
            "resampy                  0.2.2          \n",
            "retrying                 1.3.3          \n",
            "rpy2                     3.2.7          \n",
            "rsa                      4.0            \n",
            "s3fs                     0.4.2          \n",
            "s3transfer               0.3.3          \n",
            "scikit-image             0.16.2         \n",
            "scikit-learn             0.22.2.post1   \n",
            "scipy                    1.4.1          \n",
            "screen-resolution-extra  0.0.0          \n",
            "scs                      2.1.2          \n",
            "seaborn                  0.10.1         \n",
            "Send2Trash               1.5.0          \n",
            "setuptools               46.3.0         \n",
            "setuptools-git           1.2            \n",
            "Shapely                  1.7.0          \n",
            "simplegeneric            0.8.1          \n",
            "six                      1.12.0         \n",
            "sklearn                  0.0            \n",
            "sklearn-pandas           1.8.0          \n",
            "smart-open               2.0.0          \n",
            "snowballstemmer          2.0.0          \n",
            "sortedcontainers         2.1.0          \n",
            "spacy                    2.2.4          \n",
            "Sphinx                   1.8.5          \n",
            "sphinxcontrib-websupport 1.2.2          \n",
            "SQLAlchemy               1.3.17         \n",
            "sqlparse                 0.3.1          \n",
            "srsly                    1.0.2          \n",
            "statsmodels              0.10.2         \n",
            "sympy                    1.1.1          \n",
            "tables                   3.4.4          \n",
            "tabulate                 0.8.7          \n",
            "tbb                      2020.0.133     \n",
            "tblib                    1.6.0          \n",
            "tensorboard              2.2.1          \n",
            "tensorboard-plugin-wit   1.6.0.post3    \n",
            "tensorboardcolab         0.0.22         \n",
            "tensorflow               2.2.0          \n",
            "tensorflow-addons        0.8.3          \n",
            "tensorflow-datasets      2.1.0          \n",
            "tensorflow-estimator     2.2.0          \n",
            "tensorflow-gcs-config    2.1.8          \n",
            "tensorflow-hub           0.8.0          \n",
            "tensorflow-metadata      0.22.0         \n",
            "tensorflow-privacy       0.2.2          \n",
            "tensorflow-probability   0.10.0         \n",
            "termcolor                1.1.0          \n",
            "terminado                0.8.3          \n",
            "testpath                 0.4.4          \n",
            "text-unidecode           1.3            \n",
            "textblob                 0.15.3         \n",
            "textgenrnn               1.4.1          \n",
            "Theano                   1.0.4          \n",
            "thinc                    7.4.0          \n",
            "tifffile                 2020.5.11      \n",
            "toolz                    0.10.0         \n",
            "torch                    1.4.0          \n",
            "torchsummary             1.5.1          \n",
            "torchtext                0.3.1          \n",
            "torchvision              0.5.0          \n",
            "tornado                  4.5.3          \n",
            "tqdm                     4.41.1         \n",
            "traitlets                4.3.3          \n",
            "tweepy                   3.6.0          \n",
            "typeguard                2.7.1          \n",
            "typing                   3.6.6          \n",
            "typing-extensions        3.6.6          \n",
            "tzlocal                  1.5.1          \n",
            "umap-learn               0.4.3          \n",
            "uritemplate              3.0.1          \n",
            "urllib3                  1.24.3         \n",
            "vega-datasets            0.8.0          \n",
            "wasabi                   0.6.0          \n",
            "wcwidth                  0.1.9          \n",
            "webencodings             0.5.1          \n",
            "Werkzeug                 1.0.1          \n",
            "wheel                    0.34.2         \n",
            "widgetsnbextension       3.5.1          \n",
            "wordcloud                1.5.0          \n",
            "wrapt                    1.12.1         \n",
            "xarray                   0.15.1         \n",
            "xgboost                  0.90           \n",
            "xkit                     0.0.0          \n",
            "xlrd                     1.1.0          \n",
            "xlwt                     1.3.0          \n",
            "yellowbrick              0.9.1          \n",
            "zict                     2.0.0          \n",
            "zipp                     3.1.0          \n"
          ],
          "name": "stdout"
        }
      ]
    },
    {
      "cell_type": "markdown",
      "metadata": {
        "id": "4uAHsGngq3zx",
        "colab_type": "text"
      },
      "source": [
        "We are going to use the [Oxford-IIIT Pet Dataset](http://www.robots.ox.ac.uk/~vgg/data/pets/) by [O. M. Parkhi et al., 2012](http://www.robots.ox.ac.uk/~vgg/publications/2012/parkhi12a/parkhi12a.pdf) which features 12 cat breeds and 25 dogs breeds. Our model will need to learn to differentiate between these 37 distinct categories. According to their paper, the best accuracy they could get in 2012 was 59.21%, using a complex model that was specific to pet detection, with separate \"Image\", \"Head\", and \"Body\" models for the pet photos. Let's see how accurate we can be using deep learning!\n",
        "\n",
        "We are going to use the `untar_data` function to which we must pass a URL as an argument and which will download and extract the data."
      ]
    },
    {
      "cell_type": "markdown",
      "metadata": {
        "id": "32cwkshVq31g",
        "colab_type": "text"
      },
      "source": [
        "## Other data formats"
      ]
    },
    {
      "cell_type": "markdown",
      "metadata": {
        "id": "8cSlAshYEy5u",
        "colab_type": "text"
      },
      "source": [
        "1. Firstly, I uploaded a tgz file in /content/data folder. File name: devanagarihandwrittencharacterdataset.tgz\n",
        "\n",
        "2. Applied the following code : \n",
        "path=untar_data('/content/data/devanagarihandwrittencharacterdataset')\n",
        "\n",
        "3. Moved the untarred folder by drag and drip to /content/data/devanagarihandwrittencharacterdataset folder\n",
        "\n"
      ]
    },
    {
      "cell_type": "code",
      "metadata": {
        "id": "O-LOs_BSF27w",
        "colab_type": "code",
        "colab": {}
      },
      "source": [
        "# path=untar_data('/content/data/devanagarihandwrittencharacterdataset')\n",
        "\n",
        "path = Path('/content/data/DevanagariHandwrittenCharacterDataset')\n"
      ],
      "execution_count": 0,
      "outputs": []
    },
    {
      "cell_type": "code",
      "metadata": {
        "id": "qZFK972vq31g",
        "colab_type": "code",
        "outputId": "49c45dac-92a4-47ea-f6f6-ae5416648f95",
        "colab": {
          "base_uri": "https://localhost:8080/",
          "height": 68
        }
      },
      "source": [
        "path.ls()"
      ],
      "execution_count": 0,
      "outputs": [
        {
          "output_type": "execute_result",
          "data": {
            "text/plain": [
              "[PosixPath('/content/data/DevanagariHandwrittenCharacterDataset/valid'),\n",
              " PosixPath('/content/data/DevanagariHandwrittenCharacterDataset/.ipynb_checkpoints'),\n",
              " PosixPath('/content/data/DevanagariHandwrittenCharacterDataset/train')]"
            ]
          },
          "metadata": {
            "tags": []
          },
          "execution_count": 16
        }
      ]
    },
    {
      "cell_type": "code",
      "metadata": {
        "id": "_D74Mk9-q31k",
        "colab_type": "code",
        "colab": {}
      },
      "source": [
        "tfms = get_transforms(do_flip=False)\n",
        "data = ImageDataBunch.from_folder(path, ds_tfms=tfms, size=26,bs=64)"
      ],
      "execution_count": 0,
      "outputs": []
    },
    {
      "cell_type": "code",
      "metadata": {
        "id": "QoIr0jGMq31m",
        "colab_type": "code",
        "outputId": "0b9e7beb-a18d-453a-d3a1-b66988f4443b",
        "colab": {
          "base_uri": "https://localhost:8080/",
          "height": 342
        }
      },
      "source": [
        "data.show_batch(rows=3, figsize=(5,5))"
      ],
      "execution_count": 0,
      "outputs": [
        {
          "output_type": "display_data",
          "data": {
            "image/png": "[encoded data removed]",
            "text/plain": [
              "<Figure size 360x360 with 9 Axes>"
            ]
          },
          "metadata": {
            "tags": [],
            "needs_background": "light"
          }
        }
      ]
    },
    {
      "cell_type": "code",
      "metadata": {
        "id": "WFOO6jSmq31q",
        "colab_type": "code",
        "outputId": "1a00bfed-eb19-4d38-8e65-f531e2a10e2c",
        "colab": {
          "base_uri": "https://localhost:8080/",
          "height": 103,
          "referenced_widgets": [
            "f6e8f6f5ecff4624b8a2122fe8749b29",
            "8647ae2d8d6043638b16fdb5cc874ed4",
            "d37d2df9cdcd4feda82026d2ce14c0fc",
            "614a06de84944142a093d81564333811",
            "5148d6c5c31b4b409b60059a0ca0125b",
            "edcb887fb4484cc3b8b2f6b1c42d2f24",
            "ca1ac89af0d14c18be3836fa3e62d419",
            "b234672808a64b38bd1be739bd83789a"
          ]
        }
      },
      "source": [
        "learn = cnn_learner(data, models.resnet34, metrics=accuracy)\n"
      ],
      "execution_count": 0,
      "outputs": [
        {
          "output_type": "stream",
          "text": [
            "Downloading: \"https://download.pytorch.org/models/resnet34-333f7ec4.pth\" to /root/.cache/torch/checkpoints/resnet34-333f7ec4.pth\n"
          ],
          "name": "stderr"
        },
        {
          "output_type": "display_data",
          "data": {
            "application/vnd.jupyter.widget-view+json": {
              "model_id": "f6e8f6f5ecff4624b8a2122fe8749b29",
              "version_minor": 0,
              "version_major": 2
            },
            "text/plain": [
              "HBox(children=(FloatProgress(value=0.0, max=87306240.0), HTML(value='')))"
            ]
          },
          "metadata": {
            "tags": []
          }
        },
        {
          "output_type": "stream",
          "text": [
            "\n"
          ],
          "name": "stdout"
        }
      ]
    },
    {
      "cell_type": "code",
      "metadata": {
        "id": "ZBm6Bh5qq6Yx",
        "colab_type": "code",
        "outputId": "96e7055b-fc80-4737-dbc1-0d3499fcbcf3",
        "colab": {
          "base_uri": "https://localhost:8080/",
          "height": 173
        }
      },
      "source": [
        "learn.fit_one_cycle(4)"
      ],
      "execution_count": 0,
      "outputs": [
        {
          "output_type": "display_data",
          "data": {
            "text/html": [
              "<table border=\"1\" class=\"dataframe\">\n",
              "  <thead>\n",
              "    <tr style=\"text-align: left;\">\n",
              "      <th>epoch</th>\n",
              "      <th>train_loss</th>\n",
              "      <th>valid_loss</th>\n",
              "      <th>accuracy</th>\n",
              "      <th>time</th>\n",
              "    </tr>\n",
              "  </thead>\n",
              "  <tbody>\n",
              "    <tr>\n",
              "      <td>0</td>\n",
              "      <td>1.973869</td>\n",
              "      <td>1.318380</td>\n",
              "      <td>0.622319</td>\n",
              "      <td>03:11</td>\n",
              "    </tr>\n",
              "    <tr>\n",
              "      <td>1</td>\n",
              "      <td>0.960478</td>\n",
              "      <td>0.509761</td>\n",
              "      <td>0.839203</td>\n",
              "      <td>03:11</td>\n",
              "    </tr>\n",
              "    <tr>\n",
              "      <td>2</td>\n",
              "      <td>0.676073</td>\n",
              "      <td>0.319655</td>\n",
              "      <td>0.906159</td>\n",
              "      <td>03:11</td>\n",
              "    </tr>\n",
              "    <tr>\n",
              "      <td>3</td>\n",
              "      <td>0.579188</td>\n",
              "      <td>0.285360</td>\n",
              "      <td>0.916522</td>\n",
              "      <td>03:10</td>\n",
              "    </tr>\n",
              "  </tbody>\n",
              "</table>"
            ],
            "text/plain": [
              "<IPython.core.display.HTML object>"
            ]
          },
          "metadata": {
            "tags": []
          }
        }
      ]
    },
    {
      "cell_type": "code",
      "metadata": {
        "id": "D9o_DQXTrCh2",
        "colab_type": "code",
        "colab": {}
      },
      "source": [
        "learn.save('stage-1')"
      ],
      "execution_count": 0,
      "outputs": []
    },
    {
      "cell_type": "code",
      "metadata": {
        "id": "yE_B8SbjqvUN",
        "colab_type": "code",
        "outputId": "4c43908c-5fd2-49dc-b51a-d9fd268e5a4d",
        "colab": {
          "base_uri": "https://localhost:8080/",
          "height": 34
        }
      },
      "source": [
        "interp = ClassificationInterpretation.from_learner(learn)\n",
        "\n",
        "losses,idxs = interp.top_losses()\n",
        "\n",
        "len(data.valid_ds)==len(losses)==len(idxs)"
      ],
      "execution_count": 0,
      "outputs": [
        {
          "output_type": "display_data",
          "data": {
            "text/html": [
              ""
            ],
            "text/plain": [
              "<IPython.core.display.HTML object>"
            ]
          },
          "metadata": {
            "tags": []
          }
        },
        {
          "output_type": "execute_result",
          "data": {
            "text/plain": [
              "True"
            ]
          },
          "metadata": {
            "tags": []
          },
          "execution_count": 22
        }
      ]
    },
    {
      "cell_type": "code",
      "metadata": {
        "id": "DXnJz8MRLnKB",
        "colab_type": "code",
        "outputId": "e93f8f8e-486c-4224-ee6b-d86bfe5faa18",
        "colab": {
          "base_uri": "https://localhost:8080/",
          "height": 708
        }
      },
      "source": [
        "interp.plot_top_losses(9, figsize=(15,11))"
      ],
      "execution_count": 0,
      "outputs": [
        {
          "output_type": "display_data",
          "data": {
            "image/png": "[encoded data removed]",
            "text/plain": [
              "<Figure size 1080x792 with 9 Axes>"
            ]
          },
          "metadata": {
            "tags": [],
            "needs_background": "light"
          }
        }
      ]
    },
    {
      "cell_type": "code",
      "metadata": {
        "id": "36Jyado6LxLs",
        "colab_type": "code",
        "outputId": "b8338fab-1871-4ac4-ec4a-35191255312b",
        "colab": {
          "base_uri": "https://localhost:8080/",
          "height": 743
        }
      },
      "source": [
        "interp.plot_confusion_matrix(figsize=(12,12), dpi=60)"
      ],
      "execution_count": 0,
      "outputs": [
        {
          "output_type": "display_data",
          "data": {
            "image/png": "[encoded data removed]",
            "text/plain": [
              "<Figure size 720x720 with 1 Axes>"
            ]
          },
          "metadata": {
            "tags": [],
            "needs_background": "light"
          }
        }
      ]
    },
    {
      "cell_type": "code",
      "metadata": {
        "id": "uEEYgBYKMJge",
        "colab_type": "code",
        "outputId": "5ba7477a-7bbf-41b6-85b2-4df44a99eff4",
        "colab": {
          "base_uri": "https://localhost:8080/",
          "height": 1000
        }
      },
      "source": [
        "interp.most_confused(min_val=2)"
      ],
      "execution_count": 0,
      "outputs": [
        {
          "output_type": "execute_result",
          "data": {
            "text/plain": [
              "[('character_26_yaw', 'character_17_tha', 29),\n",
              " ('character_32_patalosaw', 'character_25_ma', 24),\n",
              " ('character_17_tha', 'character_26_yaw', 20),\n",
              " ('character_31_petchiryakha', 'character_21_pa', 18),\n",
              " ('character_23_ba', 'character_29_waw', 17),\n",
              " ('character_18_da', 'character_14_dhaa', 16),\n",
              " ('character_19_dha', 'character_17_tha', 16),\n",
              " ('character_7_chha', 'character_18_da', 14),\n",
              " ('character_17_tha', 'character_19_dha', 13),\n",
              " ('character_13_daa', 'character_14_dhaa', 12),\n",
              " ('character_13_daa', 'character_5_kna', 12),\n",
              " ('character_25_ma', 'character_32_patalosaw', 12),\n",
              " ('character_2_kha', 'character_32_patalosaw', 12),\n",
              " ('character_34_chhya', 'character_24_bha', 12),\n",
              " ('character_25_ma', 'character_24_bha', 11),\n",
              " ('character_34_chhya', 'character_36_gya', 11),\n",
              " ('character_4_gha', 'character_19_dha', 11),\n",
              " ('character_7_chha', 'digit_6', 11),\n",
              " ('character_24_bha', 'character_10_yna', 9),\n",
              " ('character_2_kha', 'character_30_motosaw', 9),\n",
              " ('character_35_tra', 'character_10_yna', 9),\n",
              " ('character_14_dhaa', 'character_33_ha', 8),\n",
              " ('character_18_da', 'character_11_taamatar', 8),\n",
              " ('character_5_kna', 'character_13_daa', 8),\n",
              " ('character_10_yna', 'character_24_bha', 7),\n",
              " ('character_12_thaa', 'character_14_dhaa', 7),\n",
              " ('character_19_dha', 'character_4_gha', 7),\n",
              " ('character_20_na', 'character_6_cha', 7),\n",
              " ('character_24_bha', 'character_17_tha', 7),\n",
              " ('character_24_bha', 'character_25_ma', 7),\n",
              " ('character_24_bha', 'character_34_chhya', 7),\n",
              " ('character_28_la', 'character_16_tabala', 7),\n",
              " ('character_32_patalosaw', 'character_2_kha', 7),\n",
              " ('character_32_patalosaw', 'character_30_motosaw', 7),\n",
              " ('character_32_patalosaw', 'character_34_chhya', 7),\n",
              " ('character_32_patalosaw', 'character_4_gha', 7),\n",
              " ('character_33_ha', 'character_5_kna', 7),\n",
              " ('character_36_gya', 'character_8_ja', 7),\n",
              " ('character_7_chha', 'character_33_ha', 7),\n",
              " ('character_10_yna', 'character_8_ja', 6),\n",
              " ('character_12_thaa', 'character_29_waw', 6),\n",
              " ('character_14_dhaa', 'character_11_taamatar', 6),\n",
              " ('character_22_pha', 'character_1_ka', 6),\n",
              " ('character_29_waw', 'character_16_tabala', 6),\n",
              " ('character_34_chhya', 'character_19_dha', 6),\n",
              " ('character_34_chhya', 'character_32_patalosaw', 6),\n",
              " ('character_4_gha', 'character_17_tha', 6),\n",
              " ('character_7_chha', 'character_4_gha', 6),\n",
              " ('character_18_da', 'character_33_ha', 5),\n",
              " ('character_18_da', 'character_7_chha', 5),\n",
              " ('character_20_na', 'character_16_tabala', 5),\n",
              " ('character_20_na', 'character_28_la', 5),\n",
              " ('character_23_ba', 'character_4_gha', 5),\n",
              " ('character_26_yaw', 'character_21_pa', 5),\n",
              " ('character_27_ra', 'character_11_taamatar', 5),\n",
              " ('character_27_ra', 'digit_8', 5),\n",
              " ('character_29_waw', 'character_20_na', 5),\n",
              " ('character_29_waw', 'character_23_ba', 5),\n",
              " ('character_33_ha', 'character_11_taamatar', 5),\n",
              " ('character_33_ha', 'character_7_chha', 5),\n",
              " ('character_3_ga', 'character_15_adna', 5),\n",
              " ('character_4_gha', 'character_26_yaw', 5),\n",
              " ('character_8_ja', 'character_20_na', 5),\n",
              " ('digit_4', 'digit_5', 5),\n",
              " ('character_11_taamatar', 'digit_8', 4),\n",
              " ('character_14_dhaa', 'character_12_thaa', 4),\n",
              " ('character_16_tabala', 'character_20_na', 4),\n",
              " ('character_16_tabala', 'character_28_la', 4),\n",
              " ('character_16_tabala', 'character_35_tra', 4),\n",
              " ('character_17_tha', 'character_4_gha', 4),\n",
              " ('character_23_ba', 'character_31_petchiryakha', 4),\n",
              " ('character_29_waw', 'character_21_pa', 4),\n",
              " ('character_29_waw', 'character_35_tra', 4),\n",
              " ('character_30_motosaw', 'character_19_dha', 4),\n",
              " ('character_30_motosaw', 'character_34_chhya', 4),\n",
              " ('character_31_petchiryakha', 'character_4_gha', 4),\n",
              " ('character_32_patalosaw', 'character_31_petchiryakha', 4),\n",
              " ('character_33_ha', 'character_18_da', 4),\n",
              " ('character_36_gya', 'character_35_tra', 4),\n",
              " ('character_4_gha', 'character_29_waw', 4),\n",
              " ('character_5_kna', 'character_33_ha', 4),\n",
              " ('character_6_cha', 'character_4_gha', 4),\n",
              " ('character_9_jha', 'character_1_ka', 4),\n",
              " ('digit_2', 'digit_9', 4),\n",
              " ('digit_3', 'digit_6', 4),\n",
              " ('digit_4', 'digit_6', 4),\n",
              " ('character_10_yna', 'character_36_gya', 3),\n",
              " ('character_11_taamatar', 'character_12_thaa', 3),\n",
              " ('character_13_daa', 'character_33_ha', 3),\n",
              " ('character_13_daa', 'character_7_chha', 3),\n",
              " ('character_13_daa', 'digit_9', 3),\n",
              " ('character_14_dhaa', 'character_13_daa', 3),\n",
              " ('character_14_dhaa', 'character_5_kna', 3),\n",
              " ('character_15_adna', 'character_21_pa', 3),\n",
              " ('character_16_tabala', 'character_29_waw', 3),\n",
              " ('character_1_ka', 'character_22_pha', 3),\n",
              " ('character_1_ka', 'character_25_ma', 3),\n",
              " ('character_1_ka', 'character_9_jha', 3),\n",
              " ('character_20_na', 'character_29_waw', 3),\n",
              " ('character_21_pa', 'character_31_petchiryakha', 3),\n",
              " ('character_23_ba', 'character_20_na', 3),\n",
              " ('character_24_bha', 'character_22_pha', 3),\n",
              " ('character_25_ma', 'character_26_yaw', 3),\n",
              " ('character_26_yaw', 'character_10_yna', 3),\n",
              " ('character_26_yaw', 'character_31_petchiryakha', 3),\n",
              " ('character_26_yaw', 'character_3_ga', 3),\n",
              " ('character_26_yaw', 'character_6_cha', 3),\n",
              " ('character_27_ra', 'character_18_da', 3),\n",
              " ('character_28_la', 'character_20_na', 3),\n",
              " ('character_29_waw', 'character_12_thaa', 3),\n",
              " ('character_2_kha', 'character_23_ba', 3),\n",
              " ('character_30_motosaw', 'character_25_ma', 3),\n",
              " ('character_30_motosaw', 'character_3_ga', 3),\n",
              " ('character_31_petchiryakha', 'character_22_pha', 3),\n",
              " ('character_32_patalosaw', 'character_24_bha', 3),\n",
              " ('character_32_patalosaw', 'character_35_tra', 3),\n",
              " ('character_33_ha', 'character_13_daa', 3),\n",
              " ('character_33_ha', 'character_14_dhaa', 3),\n",
              " ('character_35_tra', 'character_16_tabala', 3),\n",
              " ('character_35_tra', 'character_26_yaw', 3),\n",
              " ('character_36_gya', 'character_20_na', 3),\n",
              " ('character_36_gya', 'character_34_chhya', 3),\n",
              " ('character_3_ga', 'character_26_yaw', 3),\n",
              " ('character_4_gha', 'character_21_pa', 3),\n",
              " ('character_6_cha', 'character_17_tha', 3),\n",
              " ('character_7_chha', 'character_22_pha', 3),\n",
              " ('character_7_chha', 'character_5_kna', 3),\n",
              " ('character_8_ja', 'character_10_yna', 3),\n",
              " ('character_8_ja', 'character_13_daa', 3),\n",
              " ('character_8_ja', 'character_36_gya', 3),\n",
              " ('digit_3', 'character_7_chha', 3),\n",
              " ('digit_3', 'digit_2', 3),\n",
              " ('digit_6', 'character_19_dha', 3),\n",
              " ('character_11_taamatar', 'character_13_daa', 2),\n",
              " ('character_11_taamatar', 'character_14_dhaa', 2),\n",
              " ('character_11_taamatar', 'character_29_waw', 2),\n",
              " ('character_11_taamatar', 'character_33_ha', 2),\n",
              " ('character_12_thaa', 'character_11_taamatar', 2),\n",
              " ('character_13_daa', 'character_12_thaa', 2),\n",
              " ('character_13_daa', 'character_8_ja', 2),\n",
              " ('character_14_dhaa', 'character_18_da', 2),\n",
              " ('character_15_adna', 'character_3_ga', 2),\n",
              " ('character_17_tha', 'character_31_petchiryakha', 2),\n",
              " ('character_18_da', 'digit_6', 2),\n",
              " ('character_19_dha', 'character_32_patalosaw', 2),\n",
              " ('character_1_ka', 'character_5_kna', 2),\n",
              " ('character_1_ka', 'character_7_chha', 2),\n",
              " ('character_20_na', 'character_23_ba', 2),\n",
              " ('character_20_na', 'character_35_tra', 2),\n",
              " ('character_20_na', 'character_3_ga', 2),\n",
              " ('character_20_na', 'character_8_ja', 2),\n",
              " ('character_21_pa', 'character_15_adna', 2),\n",
              " ('character_21_pa', 'character_26_yaw', 2),\n",
              " ('character_22_pha', 'character_9_jha', 2),\n",
              " ('character_23_ba', 'character_28_la', 2),\n",
              " ('character_23_ba', 'character_5_kna', 2),\n",
              " ('character_24_bha', 'character_4_gha', 2),\n",
              " ('character_25_ma', 'character_2_kha', 2),\n",
              " ('character_26_yaw', 'character_4_gha', 2),\n",
              " ('character_27_ra', 'character_13_daa', 2),\n",
              " ('character_27_ra', 'character_21_pa', 2),\n",
              " ('character_27_ra', 'character_5_kna', 2),\n",
              " ('character_27_ra', 'character_7_chha', 2),\n",
              " ('character_27_ra', 'digit_9', 2),\n",
              " ('character_28_la', 'character_36_gya', 2),\n",
              " ('character_29_waw', 'character_18_da', 2),\n",
              " ('character_29_waw', 'character_31_petchiryakha', 2),\n",
              " ('character_29_waw', 'character_34_chhya', 2),\n",
              " ('character_29_waw', 'character_6_cha', 2),\n",
              " ('character_2_kha', 'character_36_gya', 2),\n",
              " ('character_30_motosaw', 'character_17_tha', 2),\n",
              " ('character_30_motosaw', 'character_32_patalosaw', 2),\n",
              " ('character_31_petchiryakha', 'character_17_tha', 2),\n",
              " ('character_31_petchiryakha', 'character_23_ba', 2),\n",
              " ('character_32_patalosaw', 'character_10_yna', 2),\n",
              " ('character_32_patalosaw', 'character_18_da', 2),\n",
              " ('character_32_patalosaw', 'character_27_ra', 2),\n",
              " ('character_32_patalosaw', 'character_29_waw', 2),\n",
              " ('character_32_patalosaw', 'character_36_gya', 2),\n",
              " ('character_33_ha', 'character_12_thaa', 2),\n",
              " ('character_33_ha', 'character_36_gya', 2),\n",
              " ('character_33_ha', 'digit_6', 2),\n",
              " ('character_34_chhya', 'character_29_waw', 2),\n",
              " ('character_34_chhya', 'character_8_ja', 2),\n",
              " ('character_35_tra', 'character_20_na', 2),\n",
              " ('character_35_tra', 'character_29_waw', 2),\n",
              " ('character_36_gya', 'character_10_yna', 2),\n",
              " ('character_36_gya', 'character_25_ma', 2),\n",
              " ('character_36_gya', 'character_28_la', 2),\n",
              " ('character_36_gya', 'character_30_motosaw', 2),\n",
              " ('character_3_ga', 'character_30_motosaw', 2),\n",
              " ('character_4_gha', 'character_31_petchiryakha', 2),\n",
              " ('character_4_gha', 'character_34_chhya', 2),\n",
              " ('character_4_gha', 'character_6_cha', 2),\n",
              " ('character_5_kna', 'character_14_dhaa', 2),\n",
              " ('character_5_kna', 'character_7_chha', 2),\n",
              " ('character_6_cha', 'character_21_pa', 2),\n",
              " ('character_6_cha', 'character_26_yaw', 2),\n",
              " ('character_6_cha', 'character_35_tra', 2),\n",
              " ('character_7_chha', 'character_14_dhaa', 2),\n",
              " ('character_7_chha', 'character_19_dha', 2),\n",
              " ('character_7_chha', 'character_1_ka', 2),\n",
              " ('character_7_chha', 'character_31_petchiryakha', 2),\n",
              " ('character_8_ja', 'character_23_ba', 2),\n",
              " ('character_8_ja', 'character_25_ma', 2),\n",
              " ('character_8_ja', 'character_28_la', 2),\n",
              " ('character_8_ja', 'character_5_kna', 2),\n",
              " ('character_9_jha', 'character_22_pha', 2),\n",
              " ('character_9_jha', 'character_24_bha', 2),\n",
              " ('digit_1', 'character_29_waw', 2),\n",
              " ('digit_2', 'character_27_ra', 2),\n",
              " ('digit_3', 'character_13_daa', 2),\n",
              " ('digit_3', 'digit_5', 2),\n",
              " ('digit_4', 'character_12_thaa', 2),\n",
              " ('digit_4', 'character_29_waw', 2),\n",
              " ('digit_5', 'digit_3', 2),\n",
              " ('digit_5', 'digit_6', 2),\n",
              " ('digit_6', 'character_7_chha', 2),\n",
              " ('digit_9', 'character_13_daa', 2)]"
            ]
          },
          "metadata": {
            "tags": []
          },
          "execution_count": 25
        }
      ]
    },
    {
      "cell_type": "code",
      "metadata": {
        "id": "S4SkoSIlMRIX",
        "colab_type": "code",
        "colab": {}
      },
      "source": [
        "learn.unfreeze()"
      ],
      "execution_count": 0,
      "outputs": []
    },
    {
      "cell_type": "code",
      "metadata": {
        "id": "v_UPXEseMTbK",
        "colab_type": "code",
        "outputId": "3a319c17-6c96-4e3d-d43d-58afd27c20fc",
        "colab": {
          "base_uri": "https://localhost:8080/",
          "height": 80
        }
      },
      "source": [
        "learn.fit_one_cycle(1)"
      ],
      "execution_count": 0,
      "outputs": [
        {
          "output_type": "display_data",
          "data": {
            "text/html": [
              "<table border=\"1\" class=\"dataframe\">\n",
              "  <thead>\n",
              "    <tr style=\"text-align: left;\">\n",
              "      <th>epoch</th>\n",
              "      <th>train_loss</th>\n",
              "      <th>valid_loss</th>\n",
              "      <th>accuracy</th>\n",
              "      <th>time</th>\n",
              "    </tr>\n",
              "  </thead>\n",
              "  <tbody>\n",
              "    <tr>\n",
              "      <td>0</td>\n",
              "      <td>0.102244</td>\n",
              "      <td>0.049750</td>\n",
              "      <td>0.984493</td>\n",
              "      <td>03:21</td>\n",
              "    </tr>\n",
              "  </tbody>\n",
              "</table>"
            ],
            "text/plain": [
              "<IPython.core.display.HTML object>"
            ]
          },
          "metadata": {
            "tags": []
          }
        }
      ]
    },
    {
      "cell_type": "code",
      "metadata": {
        "id": "naen8F8dMXWx",
        "colab_type": "code",
        "colab": {}
      },
      "source": [
        "learn.load('stage-1');"
      ],
      "execution_count": 0,
      "outputs": []
    },
    {
      "cell_type": "code",
      "metadata": {
        "id": "TnnSpc2bNLE2",
        "colab_type": "code",
        "outputId": "2b27e4e7-a7f8-410a-9b10-279b8d5697a3",
        "colab": {
          "base_uri": "https://localhost:8080/",
          "height": 112
        }
      },
      "source": [
        "learn.lr_find()"
      ],
      "execution_count": 0,
      "outputs": [
        {
          "output_type": "display_data",
          "data": {
            "text/html": [
              "\n",
              "    <div>\n",
              "        <style>\n",
              "            /* Turns off some styling */\n",
              "            progress {\n",
              "                /* gets rid of default border in Firefox and Opera. */\n",
              "                border: none;\n",
              "                /* Needs to be in here for Safari polyfill so background images work as expected. */\n",
              "                background-size: auto;\n",
              "            }\n",
              "            .progress-bar-interrupted, .progress-bar-interrupted::-webkit-progress-bar {\n",
              "                background: #F44336;\n",
              "            }\n",
              "        </style>\n",
              "      <progress value='0' class='' max='1' style='width:300px; height:20px; vertical-align: middle;'></progress>\n",
              "      0.00% [0/1 00:00<00:00]\n",
              "    </div>\n",
              "    \n",
              "<table border=\"1\" class=\"dataframe\">\n",
              "  <thead>\n",
              "    <tr style=\"text-align: left;\">\n",
              "      <th>epoch</th>\n",
              "      <th>train_loss</th>\n",
              "      <th>valid_loss</th>\n",
              "      <th>accuracy</th>\n",
              "      <th>time</th>\n",
              "    </tr>\n",
              "  </thead>\n",
              "  <tbody>\n",
              "  </tbody>\n",
              "</table><p>\n",
              "\n",
              "    <div>\n",
              "        <style>\n",
              "            /* Turns off some styling */\n",
              "            progress {\n",
              "                /* gets rid of default border in Firefox and Opera. */\n",
              "                border: none;\n",
              "                /* Needs to be in here for Safari polyfill so background images work as expected. */\n",
              "                background-size: auto;\n",
              "            }\n",
              "            .progress-bar-interrupted, .progress-bar-interrupted::-webkit-progress-bar {\n",
              "                background: #F44336;\n",
              "            }\n",
              "        </style>\n",
              "      <progress value='82' class='' max='1221' style='width:300px; height:20px; vertical-align: middle;'></progress>\n",
              "      6.72% [82/1221 00:12<03:00 2.1500]\n",
              "    </div>\n",
              "    "
            ],
            "text/plain": [
              "<IPython.core.display.HTML object>"
            ]
          },
          "metadata": {
            "tags": []
          }
        },
        {
          "output_type": "stream",
          "text": [
            "LR Finder is complete, type {learner_name}.recorder.plot() to see the graph.\n"
          ],
          "name": "stdout"
        }
      ]
    },
    {
      "cell_type": "code",
      "metadata": {
        "id": "slebwlTYNSEi",
        "colab_type": "code",
        "outputId": "5df82509-db9a-499a-a45e-7eda54b1e9e2",
        "colab": {
          "base_uri": "https://localhost:8080/",
          "height": 279
        }
      },
      "source": [
        "learn.recorder.plot()"
      ],
      "execution_count": 0,
      "outputs": [
        {
          "output_type": "display_data",
          "data": {
            "image/png": "[encoded data removed]",
            "text/plain": [
              "<Figure size 432x288 with 1 Axes>"
            ]
          },
          "metadata": {
            "tags": [],
            "needs_background": "light"
          }
        }
      ]
    },
    {
      "cell_type": "code",
      "metadata": {
        "id": "fooR0lUMNZjZ",
        "colab_type": "code",
        "outputId": "47181744-539b-485e-e728-4f2386e7b907",
        "colab": {
          "base_uri": "https://localhost:8080/",
          "height": 111
        }
      },
      "source": [
        "learn.unfreeze()\n",
        "learn.fit_one_cycle(2, max_lr=slice(1e-5,1e-4))"
      ],
      "execution_count": 0,
      "outputs": [
        {
          "output_type": "display_data",
          "data": {
            "text/html": [
              "<table border=\"1\" class=\"dataframe\">\n",
              "  <thead>\n",
              "    <tr style=\"text-align: left;\">\n",
              "      <th>epoch</th>\n",
              "      <th>train_loss</th>\n",
              "      <th>valid_loss</th>\n",
              "      <th>accuracy</th>\n",
              "      <th>time</th>\n",
              "    </tr>\n",
              "  </thead>\n",
              "  <tbody>\n",
              "    <tr>\n",
              "      <td>0</td>\n",
              "      <td>0.293091</td>\n",
              "      <td>0.124416</td>\n",
              "      <td>0.960797</td>\n",
              "      <td>03:23</td>\n",
              "    </tr>\n",
              "    <tr>\n",
              "      <td>1</td>\n",
              "      <td>0.204398</td>\n",
              "      <td>0.088127</td>\n",
              "      <td>0.972826</td>\n",
              "      <td>03:25</td>\n",
              "    </tr>\n",
              "  </tbody>\n",
              "</table>"
            ],
            "text/plain": [
              "<IPython.core.display.HTML object>"
            ]
          },
          "metadata": {
            "tags": []
          }
        }
      ]
    },
    {
      "cell_type": "code",
      "metadata": {
        "id": "HS0ozmVqRZ7n",
        "colab_type": "code",
        "colab": {}
      },
      "source": [
        "learn.save('stage-2')"
      ],
      "execution_count": 0,
      "outputs": []
    },
    {
      "cell_type": "code",
      "metadata": {
        "id": "lM5P2VfnXxHV",
        "colab_type": "code",
        "colab": {}
      },
      "source": [
        "learn.export()"
      ],
      "execution_count": 0,
      "outputs": []
    }
  ]
}